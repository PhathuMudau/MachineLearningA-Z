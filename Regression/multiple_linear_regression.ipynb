{
  "nbformat": 4,
  "nbformat_minor": 0,
  "metadata": {
    "colab": {
      "provenance": [],
      "include_colab_link": true
    },
    "kernelspec": {
      "name": "python3",
      "display_name": "Python 3"
    }
  },
  "cells": [
    {
      "cell_type": "markdown",
      "metadata": {
        "id": "view-in-github",
        "colab_type": "text"
      },
      "source": [
        "<a href=\"https://colab.research.google.com/github/PhathuMudau/MachineLearningA-Z/blob/main/Regression/multiple_linear_regression.ipynb\" target=\"_parent\"><img src=\"https://colab.research.google.com/assets/colab-badge.svg\" alt=\"Open In Colab\"/></a>"
      ]
    },
    {
      "cell_type": "markdown",
      "metadata": {
        "id": "CazISR8X_HUG"
      },
      "source": [
        "# Multiple Linear Regression"
      ]
    },
    {
      "cell_type": "markdown",
      "metadata": {
        "id": "pOyqYHTk_Q57"
      },
      "source": [
        "## Importing the libraries"
      ]
    },
    {
      "cell_type": "code",
      "source": [
        "import numpy as np\n",
        "import pandas as pd\n",
        "import matplotlib.pyplot as plt"
      ],
      "metadata": {
        "id": "rtUd65A9ylGK"
      },
      "execution_count": 1,
      "outputs": []
    },
    {
      "cell_type": "markdown",
      "metadata": {
        "id": "vgC61-ah_WIz"
      },
      "source": [
        "## Importing the dataset"
      ]
    },
    {
      "cell_type": "code",
      "source": [
        "dataset = pd.read_csv('50_Startups.csv')\n",
        "x = dataset.iloc[:, :-1].values\n",
        "y = dataset.iloc[:, -1].values"
      ],
      "metadata": {
        "id": "W23swOg3yzEq"
      },
      "execution_count": 32,
      "outputs": []
    },
    {
      "cell_type": "code",
      "source": [
        "print(x)"
      ],
      "metadata": {
        "colab": {
          "base_uri": "https://localhost:8080/"
        },
        "id": "SUP0h3MM9b1s",
        "outputId": "af149d4c-3273-4017-84b4-283bb3dcf193"
      },
      "execution_count": 33,
      "outputs": [
        {
          "output_type": "stream",
          "name": "stdout",
          "text": [
            "[[165349.2 136897.8 471784.1 'New York']\n",
            " [162597.7 151377.59 443898.53 'California']\n",
            " [153441.51 101145.55 407934.54 'Florida']\n",
            " [144372.41 118671.85 383199.62 'New York']\n",
            " [142107.34 91391.77 366168.42 'Florida']\n",
            " [131876.9 99814.71 362861.36 'New York']\n",
            " [134615.46 147198.87 127716.82 'California']\n",
            " [130298.13 145530.06 323876.68 'Florida']\n",
            " [120542.52 148718.95 311613.29 'New York']\n",
            " [123334.88 108679.17 304981.62 'California']\n",
            " [101913.08 110594.11 229160.95 'Florida']\n",
            " [100671.96 91790.61 249744.55 'California']\n",
            " [93863.75 127320.38 249839.44 'Florida']\n",
            " [91992.39 135495.07 252664.93 'California']\n",
            " [119943.24 156547.42 256512.92 'Florida']\n",
            " [114523.61 122616.84 261776.23 'New York']\n",
            " [78013.11 121597.55 264346.06 'California']\n",
            " [94657.16 145077.58 282574.31 'New York']\n",
            " [91749.16 114175.79 294919.57 'Florida']\n",
            " [86419.7 153514.11 0.0 'New York']\n",
            " [76253.86 113867.3 298664.47 'California']\n",
            " [78389.47 153773.43 299737.29 'New York']\n",
            " [73994.56 122782.75 303319.26 'Florida']\n",
            " [67532.53 105751.03 304768.73 'Florida']\n",
            " [77044.01 99281.34 140574.81 'New York']\n",
            " [64664.71 139553.16 137962.62 'California']\n",
            " [75328.87 144135.98 134050.07 'Florida']\n",
            " [72107.6 127864.55 353183.81 'New York']\n",
            " [66051.52 182645.56 118148.2 'Florida']\n",
            " [65605.48 153032.06 107138.38 'New York']\n",
            " [61994.48 115641.28 91131.24 'Florida']\n",
            " [61136.38 152701.92 88218.23 'New York']\n",
            " [63408.86 129219.61 46085.25 'California']\n",
            " [55493.95 103057.49 214634.81 'Florida']\n",
            " [46426.07 157693.92 210797.67 'California']\n",
            " [46014.02 85047.44 205517.64 'New York']\n",
            " [28663.76 127056.21 201126.82 'Florida']\n",
            " [44069.95 51283.14 197029.42 'California']\n",
            " [20229.59 65947.93 185265.1 'New York']\n",
            " [38558.51 82982.09 174999.3 'California']\n",
            " [28754.33 118546.05 172795.67 'California']\n",
            " [27892.92 84710.77 164470.71 'Florida']\n",
            " [23640.93 96189.63 148001.11 'California']\n",
            " [15505.73 127382.3 35534.17 'New York']\n",
            " [22177.74 154806.14 28334.72 'California']\n",
            " [1000.23 124153.04 1903.93 'New York']\n",
            " [1315.46 115816.21 297114.46 'Florida']\n",
            " [0.0 135426.92 0.0 'California']\n",
            " [542.05 51743.15 0.0 'New York']\n",
            " [0.0 116983.8 45173.06 'California']]\n"
          ]
        }
      ]
    },
    {
      "cell_type": "code",
      "source": [
        "print(y)"
      ],
      "metadata": {
        "colab": {
          "base_uri": "https://localhost:8080/"
        },
        "id": "dBV01mpL9dzW",
        "outputId": "9cfc33ce-2432-4990-c4f8-da5152975238"
      },
      "execution_count": 4,
      "outputs": [
        {
          "output_type": "stream",
          "name": "stdout",
          "text": [
            "[192261.83 191792.06 191050.39 182901.99 166187.94 156991.12 156122.51\n",
            " 155752.6  152211.77 149759.96 146121.95 144259.4  141585.52 134307.35\n",
            " 132602.65 129917.04 126992.93 125370.37 124266.9  122776.86 118474.03\n",
            " 111313.02 110352.25 108733.99 108552.04 107404.34 105733.54 105008.31\n",
            " 103282.38 101004.64  99937.59  97483.56  97427.84  96778.92  96712.8\n",
            "  96479.51  90708.19  89949.14  81229.06  81005.76  78239.91  77798.83\n",
            "  71498.49  69758.98  65200.33  64926.08  49490.75  42559.73  35673.41\n",
            "  14681.4 ]\n"
          ]
        }
      ]
    },
    {
      "cell_type": "markdown",
      "metadata": {
        "id": "VadrvE7s_lS9"
      },
      "source": [
        "## Encoding categorical data"
      ]
    },
    {
      "cell_type": "code",
      "source": [
        "from sklearn.compose import ColumnTransformer\n",
        "from sklearn.preprocessing import OneHotEncoder\n",
        "ct = ColumnTransformer(transformers=[('encoder', OneHotEncoder(), [3])], remainder='passthrough')\n",
        "x = np.array(ct.fit_transform(x))"
      ],
      "metadata": {
        "id": "d-PWx1np9qN9"
      },
      "execution_count": 34,
      "outputs": []
    },
    {
      "cell_type": "code",
      "source": [
        "print(x)"
      ],
      "metadata": {
        "colab": {
          "base_uri": "https://localhost:8080/"
        },
        "id": "c27qsYo9_2w-",
        "outputId": "83449320-6778-4e65-aad3-c59d0d65a096"
      },
      "execution_count": 35,
      "outputs": [
        {
          "output_type": "stream",
          "name": "stdout",
          "text": [
            "[[0.0 0.0 1.0 165349.2 136897.8 471784.1]\n",
            " [1.0 0.0 0.0 162597.7 151377.59 443898.53]\n",
            " [0.0 1.0 0.0 153441.51 101145.55 407934.54]\n",
            " [0.0 0.0 1.0 144372.41 118671.85 383199.62]\n",
            " [0.0 1.0 0.0 142107.34 91391.77 366168.42]\n",
            " [0.0 0.0 1.0 131876.9 99814.71 362861.36]\n",
            " [1.0 0.0 0.0 134615.46 147198.87 127716.82]\n",
            " [0.0 1.0 0.0 130298.13 145530.06 323876.68]\n",
            " [0.0 0.0 1.0 120542.52 148718.95 311613.29]\n",
            " [1.0 0.0 0.0 123334.88 108679.17 304981.62]\n",
            " [0.0 1.0 0.0 101913.08 110594.11 229160.95]\n",
            " [1.0 0.0 0.0 100671.96 91790.61 249744.55]\n",
            " [0.0 1.0 0.0 93863.75 127320.38 249839.44]\n",
            " [1.0 0.0 0.0 91992.39 135495.07 252664.93]\n",
            " [0.0 1.0 0.0 119943.24 156547.42 256512.92]\n",
            " [0.0 0.0 1.0 114523.61 122616.84 261776.23]\n",
            " [1.0 0.0 0.0 78013.11 121597.55 264346.06]\n",
            " [0.0 0.0 1.0 94657.16 145077.58 282574.31]\n",
            " [0.0 1.0 0.0 91749.16 114175.79 294919.57]\n",
            " [0.0 0.0 1.0 86419.7 153514.11 0.0]\n",
            " [1.0 0.0 0.0 76253.86 113867.3 298664.47]\n",
            " [0.0 0.0 1.0 78389.47 153773.43 299737.29]\n",
            " [0.0 1.0 0.0 73994.56 122782.75 303319.26]\n",
            " [0.0 1.0 0.0 67532.53 105751.03 304768.73]\n",
            " [0.0 0.0 1.0 77044.01 99281.34 140574.81]\n",
            " [1.0 0.0 0.0 64664.71 139553.16 137962.62]\n",
            " [0.0 1.0 0.0 75328.87 144135.98 134050.07]\n",
            " [0.0 0.0 1.0 72107.6 127864.55 353183.81]\n",
            " [0.0 1.0 0.0 66051.52 182645.56 118148.2]\n",
            " [0.0 0.0 1.0 65605.48 153032.06 107138.38]\n",
            " [0.0 1.0 0.0 61994.48 115641.28 91131.24]\n",
            " [0.0 0.0 1.0 61136.38 152701.92 88218.23]\n",
            " [1.0 0.0 0.0 63408.86 129219.61 46085.25]\n",
            " [0.0 1.0 0.0 55493.95 103057.49 214634.81]\n",
            " [1.0 0.0 0.0 46426.07 157693.92 210797.67]\n",
            " [0.0 0.0 1.0 46014.02 85047.44 205517.64]\n",
            " [0.0 1.0 0.0 28663.76 127056.21 201126.82]\n",
            " [1.0 0.0 0.0 44069.95 51283.14 197029.42]\n",
            " [0.0 0.0 1.0 20229.59 65947.93 185265.1]\n",
            " [1.0 0.0 0.0 38558.51 82982.09 174999.3]\n",
            " [1.0 0.0 0.0 28754.33 118546.05 172795.67]\n",
            " [0.0 1.0 0.0 27892.92 84710.77 164470.71]\n",
            " [1.0 0.0 0.0 23640.93 96189.63 148001.11]\n",
            " [0.0 0.0 1.0 15505.73 127382.3 35534.17]\n",
            " [1.0 0.0 0.0 22177.74 154806.14 28334.72]\n",
            " [0.0 0.0 1.0 1000.23 124153.04 1903.93]\n",
            " [0.0 1.0 0.0 1315.46 115816.21 297114.46]\n",
            " [1.0 0.0 0.0 0.0 135426.92 0.0]\n",
            " [0.0 0.0 1.0 542.05 51743.15 0.0]\n",
            " [1.0 0.0 0.0 0.0 116983.8 45173.06]]\n"
          ]
        }
      ]
    },
    {
      "cell_type": "markdown",
      "metadata": {
        "id": "WemVnqgeA70k"
      },
      "source": [
        "## Splitting the dataset into the Training set and Test set"
      ]
    },
    {
      "cell_type": "code",
      "source": [
        "from sklearn.model_selection import train_test_split\n",
        "x_train, x_test, y_train, y_test = train_test_split(x, y, train_size=0.2, random_state=0)"
      ],
      "metadata": {
        "id": "5jDaGF_H-Al5"
      },
      "execution_count": 36,
      "outputs": []
    },
    {
      "cell_type": "markdown",
      "metadata": {
        "id": "k-McZVsQBINc"
      },
      "source": [
        "## Training the Multiple Linear Regression model on the Training set"
      ]
    },
    {
      "cell_type": "code",
      "source": [
        "from sklearn.linear_model import LinearRegression\n",
        "regressor = LinearRegression()\n",
        "regressor.fit(x_train, y_train)"
      ],
      "metadata": {
        "colab": {
          "base_uri": "https://localhost:8080/",
          "height": 74
        },
        "id": "fmp5GKOnAwh1",
        "outputId": "6ff0c3c6-a098-4118-c17f-5d9db303f27c"
      },
      "execution_count": 37,
      "outputs": [
        {
          "output_type": "execute_result",
          "data": {
            "text/plain": [
              "LinearRegression()"
            ],
            "text/html": [
              "<style>#sk-container-id-4 {color: black;background-color: white;}#sk-container-id-4 pre{padding: 0;}#sk-container-id-4 div.sk-toggleable {background-color: white;}#sk-container-id-4 label.sk-toggleable__label {cursor: pointer;display: block;width: 100%;margin-bottom: 0;padding: 0.3em;box-sizing: border-box;text-align: center;}#sk-container-id-4 label.sk-toggleable__label-arrow:before {content: \"▸\";float: left;margin-right: 0.25em;color: #696969;}#sk-container-id-4 label.sk-toggleable__label-arrow:hover:before {color: black;}#sk-container-id-4 div.sk-estimator:hover label.sk-toggleable__label-arrow:before {color: black;}#sk-container-id-4 div.sk-toggleable__content {max-height: 0;max-width: 0;overflow: hidden;text-align: left;background-color: #f0f8ff;}#sk-container-id-4 div.sk-toggleable__content pre {margin: 0.2em;color: black;border-radius: 0.25em;background-color: #f0f8ff;}#sk-container-id-4 input.sk-toggleable__control:checked~div.sk-toggleable__content {max-height: 200px;max-width: 100%;overflow: auto;}#sk-container-id-4 input.sk-toggleable__control:checked~label.sk-toggleable__label-arrow:before {content: \"▾\";}#sk-container-id-4 div.sk-estimator input.sk-toggleable__control:checked~label.sk-toggleable__label {background-color: #d4ebff;}#sk-container-id-4 div.sk-label input.sk-toggleable__control:checked~label.sk-toggleable__label {background-color: #d4ebff;}#sk-container-id-4 input.sk-hidden--visually {border: 0;clip: rect(1px 1px 1px 1px);clip: rect(1px, 1px, 1px, 1px);height: 1px;margin: -1px;overflow: hidden;padding: 0;position: absolute;width: 1px;}#sk-container-id-4 div.sk-estimator {font-family: monospace;background-color: #f0f8ff;border: 1px dotted black;border-radius: 0.25em;box-sizing: border-box;margin-bottom: 0.5em;}#sk-container-id-4 div.sk-estimator:hover {background-color: #d4ebff;}#sk-container-id-4 div.sk-parallel-item::after {content: \"\";width: 100%;border-bottom: 1px solid gray;flex-grow: 1;}#sk-container-id-4 div.sk-label:hover label.sk-toggleable__label {background-color: #d4ebff;}#sk-container-id-4 div.sk-serial::before {content: \"\";position: absolute;border-left: 1px solid gray;box-sizing: border-box;top: 0;bottom: 0;left: 50%;z-index: 0;}#sk-container-id-4 div.sk-serial {display: flex;flex-direction: column;align-items: center;background-color: white;padding-right: 0.2em;padding-left: 0.2em;position: relative;}#sk-container-id-4 div.sk-item {position: relative;z-index: 1;}#sk-container-id-4 div.sk-parallel {display: flex;align-items: stretch;justify-content: center;background-color: white;position: relative;}#sk-container-id-4 div.sk-item::before, #sk-container-id-4 div.sk-parallel-item::before {content: \"\";position: absolute;border-left: 1px solid gray;box-sizing: border-box;top: 0;bottom: 0;left: 50%;z-index: -1;}#sk-container-id-4 div.sk-parallel-item {display: flex;flex-direction: column;z-index: 1;position: relative;background-color: white;}#sk-container-id-4 div.sk-parallel-item:first-child::after {align-self: flex-end;width: 50%;}#sk-container-id-4 div.sk-parallel-item:last-child::after {align-self: flex-start;width: 50%;}#sk-container-id-4 div.sk-parallel-item:only-child::after {width: 0;}#sk-container-id-4 div.sk-dashed-wrapped {border: 1px dashed gray;margin: 0 0.4em 0.5em 0.4em;box-sizing: border-box;padding-bottom: 0.4em;background-color: white;}#sk-container-id-4 div.sk-label label {font-family: monospace;font-weight: bold;display: inline-block;line-height: 1.2em;}#sk-container-id-4 div.sk-label-container {text-align: center;}#sk-container-id-4 div.sk-container {/* jupyter's `normalize.less` sets `[hidden] { display: none; }` but bootstrap.min.css set `[hidden] { display: none !important; }` so we also need the `!important` here to be able to override the default hidden behavior on the sphinx rendered scikit-learn.org. See: https://github.com/scikit-learn/scikit-learn/issues/21755 */display: inline-block !important;position: relative;}#sk-container-id-4 div.sk-text-repr-fallback {display: none;}</style><div id=\"sk-container-id-4\" class=\"sk-top-container\"><div class=\"sk-text-repr-fallback\"><pre>LinearRegression()</pre><b>In a Jupyter environment, please rerun this cell to show the HTML representation or trust the notebook. <br />On GitHub, the HTML representation is unable to render, please try loading this page with nbviewer.org.</b></div><div class=\"sk-container\" hidden><div class=\"sk-item\"><div class=\"sk-estimator sk-toggleable\"><input class=\"sk-toggleable__control sk-hidden--visually\" id=\"sk-estimator-id-4\" type=\"checkbox\" checked><label for=\"sk-estimator-id-4\" class=\"sk-toggleable__label sk-toggleable__label-arrow\">LinearRegression</label><div class=\"sk-toggleable__content\"><pre>LinearRegression()</pre></div></div></div></div></div>"
            ]
          },
          "metadata": {},
          "execution_count": 37
        }
      ]
    },
    {
      "cell_type": "markdown",
      "metadata": {
        "id": "xNkXL1YQBiBT"
      },
      "source": [
        "## Predicting the Test set results"
      ]
    },
    {
      "cell_type": "code",
      "source": [
        "y_pred = regressor.predict(x_test)\n",
        "np.set_printoptions(precision=2)\n",
        "print(np.concatenate((y_pred.reshape(len(y_pred), 1), y_test.reshape(len(y_test), 1)), axis=1))"
      ],
      "metadata": {
        "colab": {
          "base_uri": "https://localhost:8080/"
        },
        "id": "7Hie1siMCb3F",
        "outputId": "400f9cfe-bc8d-4640-ae4f-fd2235a4f091"
      },
      "execution_count": 38,
      "outputs": [
        {
          "output_type": "stream",
          "name": "stdout",
          "text": [
            "[[117126.7  103282.38]\n",
            " [136353.43 144259.4 ]\n",
            " [154866.1  146121.95]\n",
            " [ 87795.02  77798.83]\n",
            " [200500.88 191050.39]\n",
            " [107171.98 105008.31]\n",
            " [ 67068.17  81229.06]\n",
            " [101294.13  97483.56]\n",
            " [125158.02 110352.25]\n",
            " [191544.17 166187.94]\n",
            " [111390.2   96778.92]\n",
            " [ 89622.25  96479.51]\n",
            " [128928.24 105733.54]\n",
            " [ 79677.29  96712.8 ]\n",
            " [143132.95 124266.9 ]\n",
            " [176645.18 155752.6 ]\n",
            " [167493.75 132602.65]\n",
            " [ 48314.47  64926.08]\n",
            " [ 54157.61  35673.41]\n",
            " [105065.75 101004.64]\n",
            " [150620.67 129917.04]\n",
            " [119697.02  99937.59]\n",
            " [102620.78  97427.84]\n",
            " [111693.71 126992.93]\n",
            " [ 64736.96  71498.49]\n",
            " [109795.05 118474.03]\n",
            " [ 61080.93  69758.98]\n",
            " [152868.47 152211.77]\n",
            " [124196.27 134307.35]\n",
            " [100585.04 107404.34]\n",
            " [166632.62 156991.12]\n",
            " [129111.6  125370.37]\n",
            " [ 67079.74  78239.91]\n",
            " [ 42915.27  14681.4 ]\n",
            " [185618.28 191792.06]\n",
            " [145181.38 141585.52]\n",
            " [ 86931.64  89949.14]\n",
            " [119802.54 108552.04]\n",
            " [167241.99 156122.51]\n",
            " [120392.83 108733.99]]\n"
          ]
        }
      ]
    },
    {
      "cell_type": "markdown",
      "source": [
        "## Testing Backwards Elimination"
      ],
      "metadata": {
        "id": "HVxsi4uyH78J"
      }
    },
    {
      "cell_type": "code",
      "source": [
        "x = x[:, 1:]"
      ],
      "metadata": {
        "id": "gk-q0Ez7IBJ2"
      },
      "execution_count": 16,
      "outputs": []
    },
    {
      "cell_type": "code",
      "source": [
        "import statsmodels.api as sm\n",
        "x = np.append(arr=np.ones((50, 1)).astype(int), values=x, axis=1)"
      ],
      "metadata": {
        "id": "vtc0kK4MIS-4"
      },
      "execution_count": 21,
      "outputs": []
    },
    {
      "cell_type": "code",
      "source": [
        "print(x)"
      ],
      "metadata": {
        "colab": {
          "base_uri": "https://localhost:8080/"
        },
        "id": "lVTkXB6aJhuH",
        "outputId": "ab8228a2-8e07-4612-c487-0aa923ebcccd"
      },
      "execution_count": 18,
      "outputs": [
        {
          "output_type": "stream",
          "name": "stdout",
          "text": [
            "[[1 0.0 1.0 165349.2 136897.8 471784.1]\n",
            " [1 0.0 0.0 162597.7 151377.59 443898.53]\n",
            " [1 1.0 0.0 153441.51 101145.55 407934.54]\n",
            " [1 0.0 1.0 144372.41 118671.85 383199.62]\n",
            " [1 1.0 0.0 142107.34 91391.77 366168.42]\n",
            " [1 0.0 1.0 131876.9 99814.71 362861.36]\n",
            " [1 0.0 0.0 134615.46 147198.87 127716.82]\n",
            " [1 1.0 0.0 130298.13 145530.06 323876.68]\n",
            " [1 0.0 1.0 120542.52 148718.95 311613.29]\n",
            " [1 0.0 0.0 123334.88 108679.17 304981.62]\n",
            " [1 1.0 0.0 101913.08 110594.11 229160.95]\n",
            " [1 0.0 0.0 100671.96 91790.61 249744.55]\n",
            " [1 1.0 0.0 93863.75 127320.38 249839.44]\n",
            " [1 0.0 0.0 91992.39 135495.07 252664.93]\n",
            " [1 1.0 0.0 119943.24 156547.42 256512.92]\n",
            " [1 0.0 1.0 114523.61 122616.84 261776.23]\n",
            " [1 0.0 0.0 78013.11 121597.55 264346.06]\n",
            " [1 0.0 1.0 94657.16 145077.58 282574.31]\n",
            " [1 1.0 0.0 91749.16 114175.79 294919.57]\n",
            " [1 0.0 1.0 86419.7 153514.11 0.0]\n",
            " [1 0.0 0.0 76253.86 113867.3 298664.47]\n",
            " [1 0.0 1.0 78389.47 153773.43 299737.29]\n",
            " [1 1.0 0.0 73994.56 122782.75 303319.26]\n",
            " [1 1.0 0.0 67532.53 105751.03 304768.73]\n",
            " [1 0.0 1.0 77044.01 99281.34 140574.81]\n",
            " [1 0.0 0.0 64664.71 139553.16 137962.62]\n",
            " [1 1.0 0.0 75328.87 144135.98 134050.07]\n",
            " [1 0.0 1.0 72107.6 127864.55 353183.81]\n",
            " [1 1.0 0.0 66051.52 182645.56 118148.2]\n",
            " [1 0.0 1.0 65605.48 153032.06 107138.38]\n",
            " [1 1.0 0.0 61994.48 115641.28 91131.24]\n",
            " [1 0.0 1.0 61136.38 152701.92 88218.23]\n",
            " [1 0.0 0.0 63408.86 129219.61 46085.25]\n",
            " [1 1.0 0.0 55493.95 103057.49 214634.81]\n",
            " [1 0.0 0.0 46426.07 157693.92 210797.67]\n",
            " [1 0.0 1.0 46014.02 85047.44 205517.64]\n",
            " [1 1.0 0.0 28663.76 127056.21 201126.82]\n",
            " [1 0.0 0.0 44069.95 51283.14 197029.42]\n",
            " [1 0.0 1.0 20229.59 65947.93 185265.1]\n",
            " [1 0.0 0.0 38558.51 82982.09 174999.3]\n",
            " [1 0.0 0.0 28754.33 118546.05 172795.67]\n",
            " [1 1.0 0.0 27892.92 84710.77 164470.71]\n",
            " [1 0.0 0.0 23640.93 96189.63 148001.11]\n",
            " [1 0.0 1.0 15505.73 127382.3 35534.17]\n",
            " [1 0.0 0.0 22177.74 154806.14 28334.72]\n",
            " [1 0.0 1.0 1000.23 124153.04 1903.93]\n",
            " [1 1.0 0.0 1315.46 115816.21 297114.46]\n",
            " [1 0.0 0.0 0.0 135426.92 0.0]\n",
            " [1 0.0 1.0 542.05 51743.15 0.0]\n",
            " [1 0.0 0.0 0.0 116983.8 45173.06]]\n"
          ]
        }
      ]
    },
    {
      "cell_type": "code",
      "source": [
        "x_opt = x[:, [0, 1, 2, 3, 4, 5]]\n",
        "x_opt = x_opt.astype(np.float64)\n",
        "regressor_OLS = sm.OLS(endog=y, exog=x_opt).fit()\n",
        "regressor_OLS.summary()"
      ],
      "metadata": {
        "colab": {
          "base_uri": "https://localhost:8080/",
          "height": 562
        },
        "id": "Z-G3a0vkJl6_",
        "outputId": "c3767f29-a7fd-4834-f85e-849bddf82406"
      },
      "execution_count": 22,
      "outputs": [
        {
          "output_type": "execute_result",
          "data": {
            "text/plain": [
              "<class 'statsmodels.iolib.summary.Summary'>\n",
              "\"\"\"\n",
              "                            OLS Regression Results                            \n",
              "==============================================================================\n",
              "Dep. Variable:                      y   R-squared:                       0.948\n",
              "Model:                            OLS   Adj. R-squared:                  0.943\n",
              "Method:                 Least Squares   F-statistic:                     205.0\n",
              "Date:                Sat, 22 Jun 2024   Prob (F-statistic):           2.90e-28\n",
              "Time:                        23:28:54   Log-Likelihood:                -526.75\n",
              "No. Observations:                  50   AIC:                             1064.\n",
              "Df Residuals:                      45   BIC:                             1073.\n",
              "Df Model:                           4                                         \n",
              "Covariance Type:            nonrobust                                         \n",
              "==============================================================================\n",
              "                 coef    std err          t      P>|t|      [0.025      0.975]\n",
              "------------------------------------------------------------------------------\n",
              "const        2.73e+04   3185.530      8.571      0.000    2.09e+04    3.37e+04\n",
              "x1           2.73e+04   3185.530      8.571      0.000    2.09e+04    3.37e+04\n",
              "x2          1091.1075   3377.087      0.323      0.748   -5710.695    7892.910\n",
              "x3           -39.3434   3309.047     -0.012      0.991   -6704.106    6625.420\n",
              "x4             0.8609      0.031     27.665      0.000       0.798       0.924\n",
              "x5            -0.0527      0.050     -1.045      0.301      -0.154       0.049\n",
              "==============================================================================\n",
              "Omnibus:                       14.275   Durbin-Watson:                   1.197\n",
              "Prob(Omnibus):                  0.001   Jarque-Bera (JB):               19.260\n",
              "Skew:                          -0.953   Prob(JB):                     6.57e-05\n",
              "Kurtosis:                       5.369   Cond. No.                     8.74e+16\n",
              "==============================================================================\n",
              "\n",
              "Notes:\n",
              "[1] Standard Errors assume that the covariance matrix of the errors is correctly specified.\n",
              "[2] The smallest eigenvalue is 1.41e-22. This might indicate that there are\n",
              "strong multicollinearity problems or that the design matrix is singular.\n",
              "\"\"\""
            ],
            "text/html": [
              "<table class=\"simpletable\">\n",
              "<caption>OLS Regression Results</caption>\n",
              "<tr>\n",
              "  <th>Dep. Variable:</th>            <td>y</td>        <th>  R-squared:         </th> <td>   0.948</td>\n",
              "</tr>\n",
              "<tr>\n",
              "  <th>Model:</th>                   <td>OLS</td>       <th>  Adj. R-squared:    </th> <td>   0.943</td>\n",
              "</tr>\n",
              "<tr>\n",
              "  <th>Method:</th>             <td>Least Squares</td>  <th>  F-statistic:       </th> <td>   205.0</td>\n",
              "</tr>\n",
              "<tr>\n",
              "  <th>Date:</th>             <td>Sat, 22 Jun 2024</td> <th>  Prob (F-statistic):</th> <td>2.90e-28</td>\n",
              "</tr>\n",
              "<tr>\n",
              "  <th>Time:</th>                 <td>23:28:54</td>     <th>  Log-Likelihood:    </th> <td> -526.75</td>\n",
              "</tr>\n",
              "<tr>\n",
              "  <th>No. Observations:</th>      <td>    50</td>      <th>  AIC:               </th> <td>   1064.</td>\n",
              "</tr>\n",
              "<tr>\n",
              "  <th>Df Residuals:</th>          <td>    45</td>      <th>  BIC:               </th> <td>   1073.</td>\n",
              "</tr>\n",
              "<tr>\n",
              "  <th>Df Model:</th>              <td>     4</td>      <th>                     </th>     <td> </td>   \n",
              "</tr>\n",
              "<tr>\n",
              "  <th>Covariance Type:</th>      <td>nonrobust</td>    <th>                     </th>     <td> </td>   \n",
              "</tr>\n",
              "</table>\n",
              "<table class=\"simpletable\">\n",
              "<tr>\n",
              "    <td></td>       <th>coef</th>     <th>std err</th>      <th>t</th>      <th>P>|t|</th>  <th>[0.025</th>    <th>0.975]</th>  \n",
              "</tr>\n",
              "<tr>\n",
              "  <th>const</th> <td>  2.73e+04</td> <td> 3185.530</td> <td>    8.571</td> <td> 0.000</td> <td> 2.09e+04</td> <td> 3.37e+04</td>\n",
              "</tr>\n",
              "<tr>\n",
              "  <th>x1</th>    <td>  2.73e+04</td> <td> 3185.530</td> <td>    8.571</td> <td> 0.000</td> <td> 2.09e+04</td> <td> 3.37e+04</td>\n",
              "</tr>\n",
              "<tr>\n",
              "  <th>x2</th>    <td> 1091.1075</td> <td> 3377.087</td> <td>    0.323</td> <td> 0.748</td> <td>-5710.695</td> <td> 7892.910</td>\n",
              "</tr>\n",
              "<tr>\n",
              "  <th>x3</th>    <td>  -39.3434</td> <td> 3309.047</td> <td>   -0.012</td> <td> 0.991</td> <td>-6704.106</td> <td> 6625.420</td>\n",
              "</tr>\n",
              "<tr>\n",
              "  <th>x4</th>    <td>    0.8609</td> <td>    0.031</td> <td>   27.665</td> <td> 0.000</td> <td>    0.798</td> <td>    0.924</td>\n",
              "</tr>\n",
              "<tr>\n",
              "  <th>x5</th>    <td>   -0.0527</td> <td>    0.050</td> <td>   -1.045</td> <td> 0.301</td> <td>   -0.154</td> <td>    0.049</td>\n",
              "</tr>\n",
              "</table>\n",
              "<table class=\"simpletable\">\n",
              "<tr>\n",
              "  <th>Omnibus:</th>       <td>14.275</td> <th>  Durbin-Watson:     </th> <td>   1.197</td>\n",
              "</tr>\n",
              "<tr>\n",
              "  <th>Prob(Omnibus):</th> <td> 0.001</td> <th>  Jarque-Bera (JB):  </th> <td>  19.260</td>\n",
              "</tr>\n",
              "<tr>\n",
              "  <th>Skew:</th>          <td>-0.953</td> <th>  Prob(JB):          </th> <td>6.57e-05</td>\n",
              "</tr>\n",
              "<tr>\n",
              "  <th>Kurtosis:</th>      <td> 5.369</td> <th>  Cond. No.          </th> <td>8.74e+16</td>\n",
              "</tr>\n",
              "</table><br/><br/>Notes:<br/>[1] Standard Errors assume that the covariance matrix of the errors is correctly specified.<br/>[2] The smallest eigenvalue is 1.41e-22. This might indicate that there are<br/>strong multicollinearity problems or that the design matrix is singular."
            ],
            "text/latex": "\\begin{center}\n\\begin{tabular}{lclc}\n\\toprule\n\\textbf{Dep. Variable:}    &        y         & \\textbf{  R-squared:         } &     0.948   \\\\\n\\textbf{Model:}            &       OLS        & \\textbf{  Adj. R-squared:    } &     0.943   \\\\\n\\textbf{Method:}           &  Least Squares   & \\textbf{  F-statistic:       } &     205.0   \\\\\n\\textbf{Date:}             & Sat, 22 Jun 2024 & \\textbf{  Prob (F-statistic):} &  2.90e-28   \\\\\n\\textbf{Time:}             &     23:28:54     & \\textbf{  Log-Likelihood:    } &   -526.75   \\\\\n\\textbf{No. Observations:} &          50      & \\textbf{  AIC:               } &     1064.   \\\\\n\\textbf{Df Residuals:}     &          45      & \\textbf{  BIC:               } &     1073.   \\\\\n\\textbf{Df Model:}         &           4      & \\textbf{                     } &             \\\\\n\\textbf{Covariance Type:}  &    nonrobust     & \\textbf{                     } &             \\\\\n\\bottomrule\n\\end{tabular}\n\\begin{tabular}{lcccccc}\n               & \\textbf{coef} & \\textbf{std err} & \\textbf{t} & \\textbf{P$> |$t$|$} & \\textbf{[0.025} & \\textbf{0.975]}  \\\\\n\\midrule\n\\textbf{const} &     2.73e+04  &     3185.530     &     8.571  &         0.000        &     2.09e+04    &     3.37e+04     \\\\\n\\textbf{x1}    &     2.73e+04  &     3185.530     &     8.571  &         0.000        &     2.09e+04    &     3.37e+04     \\\\\n\\textbf{x2}    &    1091.1075  &     3377.087     &     0.323  &         0.748        &    -5710.695    &     7892.910     \\\\\n\\textbf{x3}    &     -39.3434  &     3309.047     &    -0.012  &         0.991        &    -6704.106    &     6625.420     \\\\\n\\textbf{x4}    &       0.8609  &        0.031     &    27.665  &         0.000        &        0.798    &        0.924     \\\\\n\\textbf{x5}    &      -0.0527  &        0.050     &    -1.045  &         0.301        &       -0.154    &        0.049     \\\\\n\\bottomrule\n\\end{tabular}\n\\begin{tabular}{lclc}\n\\textbf{Omnibus:}       & 14.275 & \\textbf{  Durbin-Watson:     } &    1.197  \\\\\n\\textbf{Prob(Omnibus):} &  0.001 & \\textbf{  Jarque-Bera (JB):  } &   19.260  \\\\\n\\textbf{Skew:}          & -0.953 & \\textbf{  Prob(JB):          } & 6.57e-05  \\\\\n\\textbf{Kurtosis:}      &  5.369 & \\textbf{  Cond. No.          } & 8.74e+16  \\\\\n\\bottomrule\n\\end{tabular}\n%\\caption{OLS Regression Results}\n\\end{center}\n\nNotes: \\newline\n [1] Standard Errors assume that the covariance matrix of the errors is correctly specified. \\newline\n [2] The smallest eigenvalue is 1.41e-22. This might indicate that there are \\newline\n strong multicollinearity problems or that the design matrix is singular."
          },
          "metadata": {},
          "execution_count": 22
        }
      ]
    },
    {
      "cell_type": "code",
      "source": [
        "x_opt = x[:, [0, 1, 2, 4, 5]]\n",
        "x_opt = x_opt.astype(np.float64)\n",
        "regressor_OLS = sm.OLS(endog=y, exog=x_opt).fit()\n",
        "regressor_OLS.summary()"
      ],
      "metadata": {
        "colab": {
          "base_uri": "https://localhost:8080/",
          "height": 541
        },
        "id": "MFVzARMiSHPz",
        "outputId": "593de0ae-93b9-432b-fbbb-ea109371a3ab"
      },
      "execution_count": 23,
      "outputs": [
        {
          "output_type": "execute_result",
          "data": {
            "text/plain": [
              "<class 'statsmodels.iolib.summary.Summary'>\n",
              "\"\"\"\n",
              "                            OLS Regression Results                            \n",
              "==============================================================================\n",
              "Dep. Variable:                      y   R-squared:                       0.948\n",
              "Model:                            OLS   Adj. R-squared:                  0.945\n",
              "Method:                 Least Squares   F-statistic:                     279.4\n",
              "Date:                Sat, 22 Jun 2024   Prob (F-statistic):           1.59e-29\n",
              "Time:                        23:29:42   Log-Likelihood:                -526.75\n",
              "No. Observations:                  50   AIC:                             1062.\n",
              "Df Residuals:                      46   BIC:                             1069.\n",
              "Df Model:                           3                                         \n",
              "Covariance Type:            nonrobust                                         \n",
              "==============================================================================\n",
              "                 coef    std err          t      P>|t|      [0.025      0.975]\n",
              "------------------------------------------------------------------------------\n",
              "const       2.729e+04   3060.993      8.917      0.000    2.11e+04    3.35e+04\n",
              "x1          2.729e+04   3060.993      8.917      0.000    2.11e+04    3.35e+04\n",
              "x2          1111.1761   2893.049      0.384      0.703   -4712.230    6934.582\n",
              "x3             0.8609      0.031     28.127      0.000       0.799       0.922\n",
              "x4            -0.0527      0.050     -1.057      0.296      -0.153       0.048\n",
              "==============================================================================\n",
              "Omnibus:                       14.252   Durbin-Watson:                   1.197\n",
              "Prob(Omnibus):                  0.001   Jarque-Bera (JB):               19.188\n",
              "Skew:                          -0.953   Prob(JB):                     6.81e-05\n",
              "Kurtosis:                       5.362   Cond. No.                     6.40e+17\n",
              "==============================================================================\n",
              "\n",
              "Notes:\n",
              "[1] Standard Errors assume that the covariance matrix of the errors is correctly specified.\n",
              "[2] The smallest eigenvalue is 2.63e-24. This might indicate that there are\n",
              "strong multicollinearity problems or that the design matrix is singular.\n",
              "\"\"\""
            ],
            "text/html": [
              "<table class=\"simpletable\">\n",
              "<caption>OLS Regression Results</caption>\n",
              "<tr>\n",
              "  <th>Dep. Variable:</th>            <td>y</td>        <th>  R-squared:         </th> <td>   0.948</td>\n",
              "</tr>\n",
              "<tr>\n",
              "  <th>Model:</th>                   <td>OLS</td>       <th>  Adj. R-squared:    </th> <td>   0.945</td>\n",
              "</tr>\n",
              "<tr>\n",
              "  <th>Method:</th>             <td>Least Squares</td>  <th>  F-statistic:       </th> <td>   279.4</td>\n",
              "</tr>\n",
              "<tr>\n",
              "  <th>Date:</th>             <td>Sat, 22 Jun 2024</td> <th>  Prob (F-statistic):</th> <td>1.59e-29</td>\n",
              "</tr>\n",
              "<tr>\n",
              "  <th>Time:</th>                 <td>23:29:42</td>     <th>  Log-Likelihood:    </th> <td> -526.75</td>\n",
              "</tr>\n",
              "<tr>\n",
              "  <th>No. Observations:</th>      <td>    50</td>      <th>  AIC:               </th> <td>   1062.</td>\n",
              "</tr>\n",
              "<tr>\n",
              "  <th>Df Residuals:</th>          <td>    46</td>      <th>  BIC:               </th> <td>   1069.</td>\n",
              "</tr>\n",
              "<tr>\n",
              "  <th>Df Model:</th>              <td>     3</td>      <th>                     </th>     <td> </td>   \n",
              "</tr>\n",
              "<tr>\n",
              "  <th>Covariance Type:</th>      <td>nonrobust</td>    <th>                     </th>     <td> </td>   \n",
              "</tr>\n",
              "</table>\n",
              "<table class=\"simpletable\">\n",
              "<tr>\n",
              "    <td></td>       <th>coef</th>     <th>std err</th>      <th>t</th>      <th>P>|t|</th>  <th>[0.025</th>    <th>0.975]</th>  \n",
              "</tr>\n",
              "<tr>\n",
              "  <th>const</th> <td> 2.729e+04</td> <td> 3060.993</td> <td>    8.917</td> <td> 0.000</td> <td> 2.11e+04</td> <td> 3.35e+04</td>\n",
              "</tr>\n",
              "<tr>\n",
              "  <th>x1</th>    <td> 2.729e+04</td> <td> 3060.993</td> <td>    8.917</td> <td> 0.000</td> <td> 2.11e+04</td> <td> 3.35e+04</td>\n",
              "</tr>\n",
              "<tr>\n",
              "  <th>x2</th>    <td> 1111.1761</td> <td> 2893.049</td> <td>    0.384</td> <td> 0.703</td> <td>-4712.230</td> <td> 6934.582</td>\n",
              "</tr>\n",
              "<tr>\n",
              "  <th>x3</th>    <td>    0.8609</td> <td>    0.031</td> <td>   28.127</td> <td> 0.000</td> <td>    0.799</td> <td>    0.922</td>\n",
              "</tr>\n",
              "<tr>\n",
              "  <th>x4</th>    <td>   -0.0527</td> <td>    0.050</td> <td>   -1.057</td> <td> 0.296</td> <td>   -0.153</td> <td>    0.048</td>\n",
              "</tr>\n",
              "</table>\n",
              "<table class=\"simpletable\">\n",
              "<tr>\n",
              "  <th>Omnibus:</th>       <td>14.252</td> <th>  Durbin-Watson:     </th> <td>   1.197</td>\n",
              "</tr>\n",
              "<tr>\n",
              "  <th>Prob(Omnibus):</th> <td> 0.001</td> <th>  Jarque-Bera (JB):  </th> <td>  19.188</td>\n",
              "</tr>\n",
              "<tr>\n",
              "  <th>Skew:</th>          <td>-0.953</td> <th>  Prob(JB):          </th> <td>6.81e-05</td>\n",
              "</tr>\n",
              "<tr>\n",
              "  <th>Kurtosis:</th>      <td> 5.362</td> <th>  Cond. No.          </th> <td>6.40e+17</td>\n",
              "</tr>\n",
              "</table><br/><br/>Notes:<br/>[1] Standard Errors assume that the covariance matrix of the errors is correctly specified.<br/>[2] The smallest eigenvalue is 2.63e-24. This might indicate that there are<br/>strong multicollinearity problems or that the design matrix is singular."
            ],
            "text/latex": "\\begin{center}\n\\begin{tabular}{lclc}\n\\toprule\n\\textbf{Dep. Variable:}    &        y         & \\textbf{  R-squared:         } &     0.948   \\\\\n\\textbf{Model:}            &       OLS        & \\textbf{  Adj. R-squared:    } &     0.945   \\\\\n\\textbf{Method:}           &  Least Squares   & \\textbf{  F-statistic:       } &     279.4   \\\\\n\\textbf{Date:}             & Sat, 22 Jun 2024 & \\textbf{  Prob (F-statistic):} &  1.59e-29   \\\\\n\\textbf{Time:}             &     23:29:42     & \\textbf{  Log-Likelihood:    } &   -526.75   \\\\\n\\textbf{No. Observations:} &          50      & \\textbf{  AIC:               } &     1062.   \\\\\n\\textbf{Df Residuals:}     &          46      & \\textbf{  BIC:               } &     1069.   \\\\\n\\textbf{Df Model:}         &           3      & \\textbf{                     } &             \\\\\n\\textbf{Covariance Type:}  &    nonrobust     & \\textbf{                     } &             \\\\\n\\bottomrule\n\\end{tabular}\n\\begin{tabular}{lcccccc}\n               & \\textbf{coef} & \\textbf{std err} & \\textbf{t} & \\textbf{P$> |$t$|$} & \\textbf{[0.025} & \\textbf{0.975]}  \\\\\n\\midrule\n\\textbf{const} &    2.729e+04  &     3060.993     &     8.917  &         0.000        &     2.11e+04    &     3.35e+04     \\\\\n\\textbf{x1}    &    2.729e+04  &     3060.993     &     8.917  &         0.000        &     2.11e+04    &     3.35e+04     \\\\\n\\textbf{x2}    &    1111.1761  &     2893.049     &     0.384  &         0.703        &    -4712.230    &     6934.582     \\\\\n\\textbf{x3}    &       0.8609  &        0.031     &    28.127  &         0.000        &        0.799    &        0.922     \\\\\n\\textbf{x4}    &      -0.0527  &        0.050     &    -1.057  &         0.296        &       -0.153    &        0.048     \\\\\n\\bottomrule\n\\end{tabular}\n\\begin{tabular}{lclc}\n\\textbf{Omnibus:}       & 14.252 & \\textbf{  Durbin-Watson:     } &    1.197  \\\\\n\\textbf{Prob(Omnibus):} &  0.001 & \\textbf{  Jarque-Bera (JB):  } &   19.188  \\\\\n\\textbf{Skew:}          & -0.953 & \\textbf{  Prob(JB):          } & 6.81e-05  \\\\\n\\textbf{Kurtosis:}      &  5.362 & \\textbf{  Cond. No.          } & 6.40e+17  \\\\\n\\bottomrule\n\\end{tabular}\n%\\caption{OLS Regression Results}\n\\end{center}\n\nNotes: \\newline\n [1] Standard Errors assume that the covariance matrix of the errors is correctly specified. \\newline\n [2] The smallest eigenvalue is 2.63e-24. This might indicate that there are \\newline\n strong multicollinearity problems or that the design matrix is singular."
          },
          "metadata": {},
          "execution_count": 23
        }
      ]
    },
    {
      "cell_type": "code",
      "source": [
        "x_opt = x[:, [0, 1, 4, 5]]\n",
        "x_opt = x_opt.astype(np.float64)\n",
        "regressor_OLS = sm.OLS(endog=y, exog=x_opt).fit()\n",
        "regressor_OLS.summary()"
      ],
      "metadata": {
        "colab": {
          "base_uri": "https://localhost:8080/",
          "height": 520
        },
        "id": "GZ9KE_7ISPun",
        "outputId": "95b5ee85-7d4d-4f19-b51b-754927e4ed59"
      },
      "execution_count": 24,
      "outputs": [
        {
          "output_type": "execute_result",
          "data": {
            "text/plain": [
              "<class 'statsmodels.iolib.summary.Summary'>\n",
              "\"\"\"\n",
              "                            OLS Regression Results                            \n",
              "==============================================================================\n",
              "Dep. Variable:                      y   R-squared:                       0.948\n",
              "Model:                            OLS   Adj. R-squared:                  0.946\n",
              "Method:                 Least Squares   F-statistic:                     426.8\n",
              "Date:                Sat, 22 Jun 2024   Prob (F-statistic):           7.29e-31\n",
              "Time:                        23:30:25   Log-Likelihood:                -526.83\n",
              "No. Observations:                  50   AIC:                             1060.\n",
              "Df Residuals:                      47   BIC:                             1065.\n",
              "Df Model:                           2                                         \n",
              "Covariance Type:            nonrobust                                         \n",
              "==============================================================================\n",
              "                 coef    std err          t      P>|t|      [0.025      0.975]\n",
              "------------------------------------------------------------------------------\n",
              "const       2.744e+04   3008.359      9.122      0.000    2.14e+04    3.35e+04\n",
              "x1          2.744e+04   3008.359      9.122      0.000    2.14e+04    3.35e+04\n",
              "x2             0.8621      0.030     28.589      0.000       0.801       0.923\n",
              "x3            -0.0530      0.049     -1.073      0.289      -0.152       0.046\n",
              "==============================================================================\n",
              "Omnibus:                       14.678   Durbin-Watson:                   1.189\n",
              "Prob(Omnibus):                  0.001   Jarque-Bera (JB):               20.449\n",
              "Skew:                          -0.961   Prob(JB):                     3.63e-05\n",
              "Kurtosis:                       5.474   Cond. No.                     3.76e+17\n",
              "==============================================================================\n",
              "\n",
              "Notes:\n",
              "[1] Standard Errors assume that the covariance matrix of the errors is correctly specified.\n",
              "[2] The smallest eigenvalue is 7.64e-24. This might indicate that there are\n",
              "strong multicollinearity problems or that the design matrix is singular.\n",
              "\"\"\""
            ],
            "text/html": [
              "<table class=\"simpletable\">\n",
              "<caption>OLS Regression Results</caption>\n",
              "<tr>\n",
              "  <th>Dep. Variable:</th>            <td>y</td>        <th>  R-squared:         </th> <td>   0.948</td>\n",
              "</tr>\n",
              "<tr>\n",
              "  <th>Model:</th>                   <td>OLS</td>       <th>  Adj. R-squared:    </th> <td>   0.946</td>\n",
              "</tr>\n",
              "<tr>\n",
              "  <th>Method:</th>             <td>Least Squares</td>  <th>  F-statistic:       </th> <td>   426.8</td>\n",
              "</tr>\n",
              "<tr>\n",
              "  <th>Date:</th>             <td>Sat, 22 Jun 2024</td> <th>  Prob (F-statistic):</th> <td>7.29e-31</td>\n",
              "</tr>\n",
              "<tr>\n",
              "  <th>Time:</th>                 <td>23:30:25</td>     <th>  Log-Likelihood:    </th> <td> -526.83</td>\n",
              "</tr>\n",
              "<tr>\n",
              "  <th>No. Observations:</th>      <td>    50</td>      <th>  AIC:               </th> <td>   1060.</td>\n",
              "</tr>\n",
              "<tr>\n",
              "  <th>Df Residuals:</th>          <td>    47</td>      <th>  BIC:               </th> <td>   1065.</td>\n",
              "</tr>\n",
              "<tr>\n",
              "  <th>Df Model:</th>              <td>     2</td>      <th>                     </th>     <td> </td>   \n",
              "</tr>\n",
              "<tr>\n",
              "  <th>Covariance Type:</th>      <td>nonrobust</td>    <th>                     </th>     <td> </td>   \n",
              "</tr>\n",
              "</table>\n",
              "<table class=\"simpletable\">\n",
              "<tr>\n",
              "    <td></td>       <th>coef</th>     <th>std err</th>      <th>t</th>      <th>P>|t|</th>  <th>[0.025</th>    <th>0.975]</th>  \n",
              "</tr>\n",
              "<tr>\n",
              "  <th>const</th> <td> 2.744e+04</td> <td> 3008.359</td> <td>    9.122</td> <td> 0.000</td> <td> 2.14e+04</td> <td> 3.35e+04</td>\n",
              "</tr>\n",
              "<tr>\n",
              "  <th>x1</th>    <td> 2.744e+04</td> <td> 3008.359</td> <td>    9.122</td> <td> 0.000</td> <td> 2.14e+04</td> <td> 3.35e+04</td>\n",
              "</tr>\n",
              "<tr>\n",
              "  <th>x2</th>    <td>    0.8621</td> <td>    0.030</td> <td>   28.589</td> <td> 0.000</td> <td>    0.801</td> <td>    0.923</td>\n",
              "</tr>\n",
              "<tr>\n",
              "  <th>x3</th>    <td>   -0.0530</td> <td>    0.049</td> <td>   -1.073</td> <td> 0.289</td> <td>   -0.152</td> <td>    0.046</td>\n",
              "</tr>\n",
              "</table>\n",
              "<table class=\"simpletable\">\n",
              "<tr>\n",
              "  <th>Omnibus:</th>       <td>14.678</td> <th>  Durbin-Watson:     </th> <td>   1.189</td>\n",
              "</tr>\n",
              "<tr>\n",
              "  <th>Prob(Omnibus):</th> <td> 0.001</td> <th>  Jarque-Bera (JB):  </th> <td>  20.449</td>\n",
              "</tr>\n",
              "<tr>\n",
              "  <th>Skew:</th>          <td>-0.961</td> <th>  Prob(JB):          </th> <td>3.63e-05</td>\n",
              "</tr>\n",
              "<tr>\n",
              "  <th>Kurtosis:</th>      <td> 5.474</td> <th>  Cond. No.          </th> <td>3.76e+17</td>\n",
              "</tr>\n",
              "</table><br/><br/>Notes:<br/>[1] Standard Errors assume that the covariance matrix of the errors is correctly specified.<br/>[2] The smallest eigenvalue is 7.64e-24. This might indicate that there are<br/>strong multicollinearity problems or that the design matrix is singular."
            ],
            "text/latex": "\\begin{center}\n\\begin{tabular}{lclc}\n\\toprule\n\\textbf{Dep. Variable:}    &        y         & \\textbf{  R-squared:         } &     0.948   \\\\\n\\textbf{Model:}            &       OLS        & \\textbf{  Adj. R-squared:    } &     0.946   \\\\\n\\textbf{Method:}           &  Least Squares   & \\textbf{  F-statistic:       } &     426.8   \\\\\n\\textbf{Date:}             & Sat, 22 Jun 2024 & \\textbf{  Prob (F-statistic):} &  7.29e-31   \\\\\n\\textbf{Time:}             &     23:30:25     & \\textbf{  Log-Likelihood:    } &   -526.83   \\\\\n\\textbf{No. Observations:} &          50      & \\textbf{  AIC:               } &     1060.   \\\\\n\\textbf{Df Residuals:}     &          47      & \\textbf{  BIC:               } &     1065.   \\\\\n\\textbf{Df Model:}         &           2      & \\textbf{                     } &             \\\\\n\\textbf{Covariance Type:}  &    nonrobust     & \\textbf{                     } &             \\\\\n\\bottomrule\n\\end{tabular}\n\\begin{tabular}{lcccccc}\n               & \\textbf{coef} & \\textbf{std err} & \\textbf{t} & \\textbf{P$> |$t$|$} & \\textbf{[0.025} & \\textbf{0.975]}  \\\\\n\\midrule\n\\textbf{const} &    2.744e+04  &     3008.359     &     9.122  &         0.000        &     2.14e+04    &     3.35e+04     \\\\\n\\textbf{x1}    &    2.744e+04  &     3008.359     &     9.122  &         0.000        &     2.14e+04    &     3.35e+04     \\\\\n\\textbf{x2}    &       0.8621  &        0.030     &    28.589  &         0.000        &        0.801    &        0.923     \\\\\n\\textbf{x3}    &      -0.0530  &        0.049     &    -1.073  &         0.289        &       -0.152    &        0.046     \\\\\n\\bottomrule\n\\end{tabular}\n\\begin{tabular}{lclc}\n\\textbf{Omnibus:}       & 14.678 & \\textbf{  Durbin-Watson:     } &    1.189  \\\\\n\\textbf{Prob(Omnibus):} &  0.001 & \\textbf{  Jarque-Bera (JB):  } &   20.449  \\\\\n\\textbf{Skew:}          & -0.961 & \\textbf{  Prob(JB):          } & 3.63e-05  \\\\\n\\textbf{Kurtosis:}      &  5.474 & \\textbf{  Cond. No.          } & 3.76e+17  \\\\\n\\bottomrule\n\\end{tabular}\n%\\caption{OLS Regression Results}\n\\end{center}\n\nNotes: \\newline\n [1] Standard Errors assume that the covariance matrix of the errors is correctly specified. \\newline\n [2] The smallest eigenvalue is 7.64e-24. This might indicate that there are \\newline\n strong multicollinearity problems or that the design matrix is singular."
          },
          "metadata": {},
          "execution_count": 24
        }
      ]
    },
    {
      "cell_type": "code",
      "source": [
        "x_opt = x[:, [0, 1, 4]]\n",
        "x_opt = x_opt.astype(np.float64)\n",
        "regressor_OLS = sm.OLS(endog=y, exog=x_opt).fit()\n",
        "regressor_OLS.summary()"
      ],
      "metadata": {
        "colab": {
          "base_uri": "https://localhost:8080/",
          "height": 499
        },
        "id": "XjKc2keqSbG0",
        "outputId": "21e9d2d0-be7a-44de-d8a4-30583a219033"
      },
      "execution_count": 25,
      "outputs": [
        {
          "output_type": "execute_result",
          "data": {
            "text/plain": [
              "<class 'statsmodels.iolib.summary.Summary'>\n",
              "\"\"\"\n",
              "                            OLS Regression Results                            \n",
              "==============================================================================\n",
              "Dep. Variable:                      y   R-squared:                       0.947\n",
              "Model:                            OLS   Adj. R-squared:                  0.945\n",
              "Method:                 Least Squares   F-statistic:                     849.8\n",
              "Date:                Sat, 22 Jun 2024   Prob (F-statistic):           3.50e-32\n",
              "Time:                        23:31:01   Log-Likelihood:                -527.44\n",
              "No. Observations:                  50   AIC:                             1059.\n",
              "Df Residuals:                      48   BIC:                             1063.\n",
              "Df Model:                           1                                         \n",
              "Covariance Type:            nonrobust                                         \n",
              "==============================================================================\n",
              "                 coef    std err          t      P>|t|      [0.025      0.975]\n",
              "------------------------------------------------------------------------------\n",
              "const       2.452e+04   1268.948     19.320      0.000     2.2e+04    2.71e+04\n",
              "x1          2.452e+04   1268.948     19.320      0.000     2.2e+04    2.71e+04\n",
              "x2             0.8543      0.029     29.151      0.000       0.795       0.913\n",
              "==============================================================================\n",
              "Omnibus:                       13.727   Durbin-Watson:                   1.116\n",
              "Prob(Omnibus):                  0.001   Jarque-Bera (JB):               18.536\n",
              "Skew:                          -0.911   Prob(JB):                     9.44e-05\n",
              "Kurtosis:                       5.361   Cond. No.                     1.87e+17\n",
              "==============================================================================\n",
              "\n",
              "Notes:\n",
              "[1] Standard Errors assume that the covariance matrix of the errors is correctly specified.\n",
              "[2] The smallest eigenvalue is 1.07e-23. This might indicate that there are\n",
              "strong multicollinearity problems or that the design matrix is singular.\n",
              "\"\"\""
            ],
            "text/html": [
              "<table class=\"simpletable\">\n",
              "<caption>OLS Regression Results</caption>\n",
              "<tr>\n",
              "  <th>Dep. Variable:</th>            <td>y</td>        <th>  R-squared:         </th> <td>   0.947</td>\n",
              "</tr>\n",
              "<tr>\n",
              "  <th>Model:</th>                   <td>OLS</td>       <th>  Adj. R-squared:    </th> <td>   0.945</td>\n",
              "</tr>\n",
              "<tr>\n",
              "  <th>Method:</th>             <td>Least Squares</td>  <th>  F-statistic:       </th> <td>   849.8</td>\n",
              "</tr>\n",
              "<tr>\n",
              "  <th>Date:</th>             <td>Sat, 22 Jun 2024</td> <th>  Prob (F-statistic):</th> <td>3.50e-32</td>\n",
              "</tr>\n",
              "<tr>\n",
              "  <th>Time:</th>                 <td>23:31:01</td>     <th>  Log-Likelihood:    </th> <td> -527.44</td>\n",
              "</tr>\n",
              "<tr>\n",
              "  <th>No. Observations:</th>      <td>    50</td>      <th>  AIC:               </th> <td>   1059.</td>\n",
              "</tr>\n",
              "<tr>\n",
              "  <th>Df Residuals:</th>          <td>    48</td>      <th>  BIC:               </th> <td>   1063.</td>\n",
              "</tr>\n",
              "<tr>\n",
              "  <th>Df Model:</th>              <td>     1</td>      <th>                     </th>     <td> </td>   \n",
              "</tr>\n",
              "<tr>\n",
              "  <th>Covariance Type:</th>      <td>nonrobust</td>    <th>                     </th>     <td> </td>   \n",
              "</tr>\n",
              "</table>\n",
              "<table class=\"simpletable\">\n",
              "<tr>\n",
              "    <td></td>       <th>coef</th>     <th>std err</th>      <th>t</th>      <th>P>|t|</th>  <th>[0.025</th>    <th>0.975]</th>  \n",
              "</tr>\n",
              "<tr>\n",
              "  <th>const</th> <td> 2.452e+04</td> <td> 1268.948</td> <td>   19.320</td> <td> 0.000</td> <td>  2.2e+04</td> <td> 2.71e+04</td>\n",
              "</tr>\n",
              "<tr>\n",
              "  <th>x1</th>    <td> 2.452e+04</td> <td> 1268.948</td> <td>   19.320</td> <td> 0.000</td> <td>  2.2e+04</td> <td> 2.71e+04</td>\n",
              "</tr>\n",
              "<tr>\n",
              "  <th>x2</th>    <td>    0.8543</td> <td>    0.029</td> <td>   29.151</td> <td> 0.000</td> <td>    0.795</td> <td>    0.913</td>\n",
              "</tr>\n",
              "</table>\n",
              "<table class=\"simpletable\">\n",
              "<tr>\n",
              "  <th>Omnibus:</th>       <td>13.727</td> <th>  Durbin-Watson:     </th> <td>   1.116</td>\n",
              "</tr>\n",
              "<tr>\n",
              "  <th>Prob(Omnibus):</th> <td> 0.001</td> <th>  Jarque-Bera (JB):  </th> <td>  18.536</td>\n",
              "</tr>\n",
              "<tr>\n",
              "  <th>Skew:</th>          <td>-0.911</td> <th>  Prob(JB):          </th> <td>9.44e-05</td>\n",
              "</tr>\n",
              "<tr>\n",
              "  <th>Kurtosis:</th>      <td> 5.361</td> <th>  Cond. No.          </th> <td>1.87e+17</td>\n",
              "</tr>\n",
              "</table><br/><br/>Notes:<br/>[1] Standard Errors assume that the covariance matrix of the errors is correctly specified.<br/>[2] The smallest eigenvalue is 1.07e-23. This might indicate that there are<br/>strong multicollinearity problems or that the design matrix is singular."
            ],
            "text/latex": "\\begin{center}\n\\begin{tabular}{lclc}\n\\toprule\n\\textbf{Dep. Variable:}    &        y         & \\textbf{  R-squared:         } &     0.947   \\\\\n\\textbf{Model:}            &       OLS        & \\textbf{  Adj. R-squared:    } &     0.945   \\\\\n\\textbf{Method:}           &  Least Squares   & \\textbf{  F-statistic:       } &     849.8   \\\\\n\\textbf{Date:}             & Sat, 22 Jun 2024 & \\textbf{  Prob (F-statistic):} &  3.50e-32   \\\\\n\\textbf{Time:}             &     23:31:01     & \\textbf{  Log-Likelihood:    } &   -527.44   \\\\\n\\textbf{No. Observations:} &          50      & \\textbf{  AIC:               } &     1059.   \\\\\n\\textbf{Df Residuals:}     &          48      & \\textbf{  BIC:               } &     1063.   \\\\\n\\textbf{Df Model:}         &           1      & \\textbf{                     } &             \\\\\n\\textbf{Covariance Type:}  &    nonrobust     & \\textbf{                     } &             \\\\\n\\bottomrule\n\\end{tabular}\n\\begin{tabular}{lcccccc}\n               & \\textbf{coef} & \\textbf{std err} & \\textbf{t} & \\textbf{P$> |$t$|$} & \\textbf{[0.025} & \\textbf{0.975]}  \\\\\n\\midrule\n\\textbf{const} &    2.452e+04  &     1268.948     &    19.320  &         0.000        &      2.2e+04    &     2.71e+04     \\\\\n\\textbf{x1}    &    2.452e+04  &     1268.948     &    19.320  &         0.000        &      2.2e+04    &     2.71e+04     \\\\\n\\textbf{x2}    &       0.8543  &        0.029     &    29.151  &         0.000        &        0.795    &        0.913     \\\\\n\\bottomrule\n\\end{tabular}\n\\begin{tabular}{lclc}\n\\textbf{Omnibus:}       & 13.727 & \\textbf{  Durbin-Watson:     } &    1.116  \\\\\n\\textbf{Prob(Omnibus):} &  0.001 & \\textbf{  Jarque-Bera (JB):  } &   18.536  \\\\\n\\textbf{Skew:}          & -0.911 & \\textbf{  Prob(JB):          } & 9.44e-05  \\\\\n\\textbf{Kurtosis:}      &  5.361 & \\textbf{  Cond. No.          } & 1.87e+17  \\\\\n\\bottomrule\n\\end{tabular}\n%\\caption{OLS Regression Results}\n\\end{center}\n\nNotes: \\newline\n [1] Standard Errors assume that the covariance matrix of the errors is correctly specified. \\newline\n [2] The smallest eigenvalue is 1.07e-23. This might indicate that there are \\newline\n strong multicollinearity problems or that the design matrix is singular."
          },
          "metadata": {},
          "execution_count": 25
        }
      ]
    },
    {
      "cell_type": "code",
      "source": [
        "y_pred_ols = regressor_OLS.predict(x_opt)\n",
        "np.set_printoptions(precision=2)\n",
        "print(np.concatenate((y_pred_ols.reshape(len(y_pred_ols), 1), y.reshape(len(y), 1)), axis=1))"
      ],
      "metadata": {
        "colab": {
          "base_uri": "https://localhost:8080/"
        },
        "id": "QOd0-ki7Trsc",
        "outputId": "ea04623d-f0c8-4a4a-9585-0932e87b3d23"
      },
      "execution_count": 29,
      "outputs": [
        {
          "output_type": "stream",
          "name": "stdout",
          "text": [
            "[[190289.29 192261.83]\n",
            " [187938.71 191792.06]\n",
            " [180116.66 191050.39]\n",
            " [172369.   182901.99]\n",
            " [170433.97 166187.94]\n",
            " [161694.2  156991.12]\n",
            " [164033.73 156122.51]\n",
            " [160345.47 155752.6 ]\n",
            " [152011.33 152211.77]\n",
            " [154396.82 149759.96]\n",
            " [136096.36 146121.95]\n",
            " [135036.09 144259.4 ]\n",
            " [129219.89 141585.52]\n",
            " [127621.2  134307.35]\n",
            " [151499.37 132602.65]\n",
            " [146869.43 129917.04]\n",
            " [115678.83 126992.93]\n",
            " [129897.69 125370.37]\n",
            " [127413.41 124266.9 ]\n",
            " [122860.5  122776.86]\n",
            " [114175.91 118474.03]\n",
            " [116000.35 111313.02]\n",
            " [112245.81 110352.25]\n",
            " [106725.36 108733.99]\n",
            " [114850.93 108552.04]\n",
            " [104275.4  107404.34]\n",
            " [113385.7  105733.54]\n",
            " [110633.8  105008.31]\n",
            " [105460.14 103282.38]\n",
            " [105079.09 101004.64]\n",
            " [101994.25  99937.59]\n",
            " [101261.18  97483.56]\n",
            " [103202.54  97427.84]\n",
            " [ 96440.9   96778.92]\n",
            " [ 88694.29  96712.8 ]\n",
            " [ 88342.28  96479.51]\n",
            " [ 73520.1   90708.19]\n",
            " [ 86681.48  89949.14]\n",
            " [ 66314.86  81229.06]\n",
            " [ 81973.1   81005.76]\n",
            " [ 73597.48  78239.91]\n",
            " [ 72861.58  77798.83]\n",
            " [ 69229.14  71498.49]\n",
            " [ 62279.31  69758.98]\n",
            " [ 67979.15  65200.33]\n",
            " [ 49887.39  64926.08]\n",
            " [ 50156.69  49490.75]\n",
            " [ 49032.9   42559.73]\n",
            " [ 49495.97  35673.41]\n",
            " [ 49032.9   14681.4 ]]\n"
          ]
        }
      ]
    },
    {
      "cell_type": "markdown",
      "source": [
        "## Single Prediction (e.g. R&D = 160000, Adm = 130000, Mrk = 300000 in California)"
      ],
      "metadata": {
        "id": "TZ0Qua13Um0M"
      }
    },
    {
      "cell_type": "code",
      "source": [
        "print(regressor.predict([[1, 0, 0, 160000, 130000, 300000]]))"
      ],
      "metadata": {
        "colab": {
          "base_uri": "https://localhost:8080/"
        },
        "id": "JTvYahZ2U9OL",
        "outputId": "5cd9f484-e2ca-4db5-f877-acac6b586772"
      },
      "execution_count": 39,
      "outputs": [
        {
          "output_type": "stream",
          "name": "stdout",
          "text": [
            "[188649.08]\n"
          ]
        }
      ]
    }
  ]
}